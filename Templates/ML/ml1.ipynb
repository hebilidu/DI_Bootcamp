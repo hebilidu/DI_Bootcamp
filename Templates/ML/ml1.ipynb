{
 "metadata": {
  "language_info": {
   "codemirror_mode": {
    "name": "ipython",
    "version": 3
   },
   "file_extension": ".py",
   "mimetype": "text/x-python",
   "name": "python",
   "nbconvert_exporter": "python",
   "pygments_lexer": "ipython3",
   "version": "3.9.0"
  },
  "orig_nbformat": 2,
  "kernelspec": {
   "name": "python390jvsc74a57bd04cd7ab41f5fca4b9b44701077e38c5ffd31fe66a6cab21e0214b68d958d0e462",
   "display_name": "Python 3.9.0 64-bit"
  }
 },
 "nbformat": 4,
 "nbformat_minor": 2,
 "cells": [
  {
   "source": [
    "# ML CYCLE\n",
    "7 steps of Machine Learning: \n",
    "1. Data Collection\n",
    "2. Data Preparation\n",
    "3. Choosing a Model\n",
    "4. Training the Model\n",
    "5. Evaluate the Model\n",
    "6. Parameter Tuning\n",
    "7. Predict\n",
    "<br>pandas cheatsheet: https://elitedatascience.com/python-cheat-sheet\n",
    "\n",
    "### 1 - Import data"
   ],
   "cell_type": "markdown",
   "metadata": {}
  },
  {
   "cell_type": "code",
   "execution_count": 2,
   "metadata": {},
   "outputs": [
    {
     "output_type": "execute_result",
     "data": {
      "text/plain": [
       "(18207, 89)"
      ]
     },
     "metadata": {},
     "execution_count": 2
    }
   ],
   "source": [
    "import pandas as pd\n",
    "data_frame = pd.read_csv('fifa19.csv')\n",
    "data_frame.shape # display format of data_frame"
   ]
  },
  {
   "cell_type": "code",
   "execution_count": 3,
   "metadata": {},
   "outputs": [
    {
     "output_type": "execute_result",
     "data": {
      "text/plain": [
       "<bound method NDFrame.describe of        Unnamed: 0      ID  ... GKReflexes  Release Clause\n",
       "0               0  158023  ...        8.0         €226.5M\n",
       "1               1   20801  ...       11.0         €127.1M\n",
       "2               2  190871  ...       11.0         €228.1M\n",
       "3               3  193080  ...       94.0         €138.6M\n",
       "4               4  192985  ...       13.0         €196.4M\n",
       "...           ...     ...  ...        ...             ...\n",
       "18202       18202  238813  ...        9.0           €143K\n",
       "18203       18203  243165  ...       12.0           €113K\n",
       "18204       18204  241638  ...       13.0           €165K\n",
       "18205       18205  246268  ...        9.0           €143K\n",
       "18206       18206  246269  ...        9.0           €165K\n",
       "\n",
       "[18207 rows x 89 columns]>"
      ]
     },
     "metadata": {},
     "execution_count": 3
    }
   ],
   "source": [
    "data_frame.describe # display stats about numerical columns"
   ]
  },
  {
   "source": [
    "### 2 - Clean data\n"
   ],
   "cell_type": "markdown",
   "metadata": {}
  },
  {
   "source": [
    "### 3 - Split data into Training and Test sets"
   ],
   "cell_type": "markdown",
   "metadata": {}
  },
  {
   "source": [
    "### 4 - Create model"
   ],
   "cell_type": "markdown",
   "metadata": {}
  },
  {
   "source": [
    "### 5 - Check output"
   ],
   "cell_type": "markdown",
   "metadata": {}
  },
  {
   "source": [
    "### 6 - Improve"
   ],
   "cell_type": "markdown",
   "metadata": {}
  }
 ]
}