{
 "metadata": {
  "language_info": {
   "codemirror_mode": {
    "name": "ipython",
    "version": 3
   },
   "file_extension": ".py",
   "mimetype": "text/x-python",
   "name": "python",
   "nbconvert_exporter": "python",
   "pygments_lexer": "ipython3",
   "version": 3
  },
  "orig_nbformat": 2
 },
 "nbformat": 4,
 "nbformat_minor": 2,
 "cells": [
  {
   "source": [
    "# week 07 day 3 - Daily Challenge\n",
    "\n",
    "Daily challenge\n",
    "\n",
    "Outliers Challenge\n",
    "\n",
    "You’re going to learn another common way to\n",
    "detect outliers in continuous features.\n",
    "\n",
    "A common technique to detect outliers is by using IQR (interquartile range)\n",
    "\n",
    "It can be calculated as follows:\n",
    "\n",
    "    Find the median of the data and make a split\n",
    "    The median of the first half of the data is Q1.\n",
    "    The median of the second half of the split is Q3.\n",
    "    The IQR is then equal to Q3 - Q1\n",
    "    Outliers are any numbers that are lower than (Q1 - 1.5 * IQR) OR higher than\n",
    "    (Q3 + 1.5 * IQR)\n",
    "\n",
    "The dataset we’ll be using is the famous Boston housing dataset.\n",
    "The Data Dictionary can be found here\n",
    "\n",
    "load the dataset:\n",
    "\n",
    "from sklearn.datasets import load_boston\n",
    "import pandas as pd\n",
    "boston=load_boston()\n",
    "boston_df=pd.DataFrame(boston.data,columns=boston.feature_names)\n",
    "boston_df['Price']=boston.target\n",
    "\n",
    "Your task:\n",
    "1. List all the continuous features.\n",
    "\n",
    "    Using Seaborn, plot boxplots of each continuous feature and visually try to guess how many\n",
    "    outliers there are.\n",
    "\n",
    "    For each continuous feature, calculate how many outliers there are using the 1.5 * IQR rule.\n",
    "    (NumPy has a function to calculate Q1 and Q3.) Did it looks similar to the boxplot?\n",
    "\n",
    "    How would you deal with the outliers in each of these cases?"
   ],
   "cell_type": "markdown",
   "metadata": {}
  },
  {
   "cell_type": "code",
   "execution_count": null,
   "metadata": {},
   "outputs": [],
   "source": []
  }
 ]
}