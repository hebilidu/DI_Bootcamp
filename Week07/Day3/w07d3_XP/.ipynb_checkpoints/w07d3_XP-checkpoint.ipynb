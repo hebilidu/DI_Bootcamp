{
 "cells": [
  {
   "cell_type": "markdown",
   "metadata": {},
   "source": [
    "# Implement k-Nearest Neighbors!\n",
    "\n",
    "Using Python and NumPy, you will implement a k-NN Classifier model.\n",
    "\n",
    "Create a class called KNNClassifier and it should have 2 methods:\n",
    "\n",
    "     - fit(): will receive the training data X and labels y and train the model.\n",
    "     - predict(): will receive the test data and return the predicted labels.\n",
    "\n",
    "Use simple Euclidean distance to measure the distance between two points. (There’s a NumPy function for this, look it up!)\n",
    "\n",
    "If a given point to predict is the same distance from two points in the training data, then the nearest would be the one appearing first in the training set.\n",
    "\n",
    "Use majority vote between all k Nearest Neighbors of a point to predict its label. If the vote is tied, it should randomly pick one of the labels.\n",
    "\n",
    "You can use test this classifier on the Iris data to see that it works\n",
    "\n",
    "HINT: https://machinelearningmastery.com/tutorial-to-implement-k-nearest-neighbors-in-python-from-scratch/"
   ]
  },
  {
   "cell_type": "code",
   "execution_count": 38,
   "metadata": {},
   "outputs": [],
   "source": [
    "import numpy as np\n",
    "import pandas as pd\n",
    "from math import sqrt\n",
    "from sklearn.model_selection import train_test_split\n",
    "import ssl\n",
    "ssl._create_default_https_context = ssl._create_unverified_context\n",
    "iris_df = pd.read_csv('https://raw.githubusercontent.com/mwaskom/seaborn-data/master/iris.csv')"
   ]
  },
  {
   "cell_type": "code",
   "execution_count": 14,
   "metadata": {},
   "outputs": [],
   "source": [
    "def euclidean_distance(row1, row2):\n",
    "    '''calculate the Euclidean distance between two vectors - Last column of each row ignored'''\n",
    "    distance = 0.0\n",
    "    for i in range(len(row1)-1):\n",
    "        distance += (row1[i] - row2[i])**2\n",
    "    return sqrt(distance)\n",
    "\n",
    "def get_neighbors(train_df, test_row, num_neighbors):\n",
    "    '''Locate the most similar neighbors'''\n",
    "    distances = list()\n",
    "    array = train_df.X_train.to_numpy()\n",
    "    for row in array:\n",
    "        dist = euclidean_distance(row, test_row)\n",
    "        distances.append((train_row, dist))\n",
    "        distances.sort(key=lambda tup: tup[1])\n",
    "    neighbors = list()\n",
    "    for i in range(num_neighbors):\n",
    "        neighbors.append(distances[i][0])\n",
    "    return neighbors"
   ]
  },
  {
   "cell_type": "code",
   "execution_count": 122,
   "metadata": {},
   "outputs": [],
   "source": [
    "class KNNClassifier():\n",
    "    def __init__(self, X_train, X_test, y_train, y_test):\n",
    "        self.X_train = X_train\n",
    "        self.X_test = X_test\n",
    "        self.y_train = y_train\n",
    "        self.y_test = y_test\n",
    "\n",
    "    def predict(self,test_row, num_neighbors):\n",
    "        '''receives the test data and return the predicted labels'''\n",
    "        neighbors = get_neighbors(self.X_train.to_numpy(), test_row, num_neighbors)\n",
    "        print(neighbors)\n",
    "        output_values = [y_train.values for row in neighbors]\n",
    "        print(output_values)\n",
    "        prediction = max(set(output_values), key=output_values.count)\n",
    "        return prediction\n",
    "\n",
    "    def fit(self, test_df, num_neighbors):\n",
    "        '''receives the training data X and labels y and train the model'''\n",
    "        predictions = list()\n",
    "        for row in test_df.to_numpy():\n",
    "            output = self.predict(row, num_neighbors)\n",
    "            predictions.append(output)\n",
    "        return predictions"
   ]
  },
  {
   "cell_type": "code",
   "execution_count": 119,
   "metadata": {},
   "outputs": [
    {
     "name": "stdout",
     "output_type": "stream",
     "text": [
      "         X1        X2  Y\n",
      "0  2.781084  2.550537  0\n",
      "1  1.465489  2.362125  0\n",
      "2  3.396562  4.400294  0\n",
      "3  1.388070  1.850220  0\n",
      "4  3.064072  3.005306  0\n",
      "5  7.627531  2.759262  1\n",
      "6  5.332441  2.088627  1\n",
      "7  6.922597  1.771064  1\n",
      "8  8.675419 -0.242069  1\n",
      "9  7.673756  3.508563  1\n"
     ]
    }
   ],
   "source": [
    "# Dataset example - Creating dataframe from a list of lists\n",
    "dataset = [\n",
    "[2.7810836, 2.550537003, 0],\n",
    "[1.465489372, 2.362125076, 0],\n",
    "[3.396561688, 4.400293529, 0],\n",
    "[1.38807019, 1.850220317, 0],\n",
    "[3.06407232, 3.005305973, 0],\n",
    "[7.627531214, 2.759262235, 1],\n",
    "[5.332441248, 2.088626775, 1],\n",
    "[6.922596716, 1.77106367, 1],\n",
    "[8.675418651, -0.242068655, 1],\n",
    "[7.673756466, 3.508563011, 1]\n",
    "]\n",
    "df = pd.DataFrame(dataset, columns=['X1','X2','Y'])\n",
    "print(df)"
   ]
  },
  {
   "cell_type": "code",
   "execution_count": 123,
   "metadata": {},
   "outputs": [],
   "source": [
    "# separate target (dependent variables) and features (independent variables) - Target in last column\n",
    "col_hdr = list(df.columns.values)\n",
    "y = df[col_hdr[-1]]\n",
    "X = df.drop([col_hdr[-1]], axis = 1)\n",
    "# dispatch data into Train and Test sets\n",
    "X_train, X_test, y_train, y_test = train_test_split(X, y, test_size=0.2)\n",
    "# create instance of KNNClassifier\n",
    "newdf = KNNClassifier(X_train, X_test, y_train, y_test)"
   ]
  },
  {
   "cell_type": "code",
   "execution_count": 124,
   "metadata": {},
   "outputs": [
    {
     "name": "stdout",
     "output_type": "stream",
     "text": [
      "[array([3.06407232, 3.00530597]), array([1.46548937, 2.36212508]), array([5.33244125, 2.08862677])]\n",
      "[array([0, 0, 1, 1, 1, 1, 0, 1]), array([0, 0, 1, 1, 1, 1, 0, 1]), array([0, 0, 1, 1, 1, 1, 0, 1])]\n"
     ]
    },
    {
     "ename": "TypeError",
     "evalue": "unhashable type: 'numpy.ndarray'",
     "output_type": "error",
     "traceback": [
      "\u001b[0;31m---------------------------------------------------------------------------\u001b[0m",
      "\u001b[0;31mTypeError\u001b[0m                                 Traceback (most recent call last)",
      "\u001b[0;32m<ipython-input-124-0d3e724ec94d>\u001b[0m in \u001b[0;36m<module>\u001b[0;34m\u001b[0m\n\u001b[0;32m----> 1\u001b[0;31m \u001b[0mnewdf\u001b[0m\u001b[0;34m.\u001b[0m\u001b[0mfit\u001b[0m\u001b[0;34m(\u001b[0m\u001b[0mnewdf\u001b[0m\u001b[0;34m.\u001b[0m\u001b[0mX_test\u001b[0m\u001b[0;34m,\u001b[0m \u001b[0;36m3\u001b[0m\u001b[0;34m)\u001b[0m\u001b[0;34m\u001b[0m\u001b[0;34m\u001b[0m\u001b[0m\n\u001b[0m",
      "\u001b[0;32m<ipython-input-122-0b5c63ec04fe>\u001b[0m in \u001b[0;36mfit\u001b[0;34m(self, test_df, num_neighbors)\u001b[0m\n\u001b[1;32m     19\u001b[0m         \u001b[0mpredictions\u001b[0m \u001b[0;34m=\u001b[0m \u001b[0mlist\u001b[0m\u001b[0;34m(\u001b[0m\u001b[0;34m)\u001b[0m\u001b[0;34m\u001b[0m\u001b[0;34m\u001b[0m\u001b[0m\n\u001b[1;32m     20\u001b[0m         \u001b[0;32mfor\u001b[0m \u001b[0mrow\u001b[0m \u001b[0;32min\u001b[0m \u001b[0mtest_df\u001b[0m\u001b[0;34m.\u001b[0m\u001b[0mto_numpy\u001b[0m\u001b[0;34m(\u001b[0m\u001b[0;34m)\u001b[0m\u001b[0;34m:\u001b[0m\u001b[0;34m\u001b[0m\u001b[0;34m\u001b[0m\u001b[0m\n\u001b[0;32m---> 21\u001b[0;31m             \u001b[0moutput\u001b[0m \u001b[0;34m=\u001b[0m \u001b[0mself\u001b[0m\u001b[0;34m.\u001b[0m\u001b[0mpredict\u001b[0m\u001b[0;34m(\u001b[0m\u001b[0mrow\u001b[0m\u001b[0;34m,\u001b[0m \u001b[0mnum_neighbors\u001b[0m\u001b[0;34m)\u001b[0m\u001b[0;34m\u001b[0m\u001b[0;34m\u001b[0m\u001b[0m\n\u001b[0m\u001b[1;32m     22\u001b[0m             \u001b[0mpredictions\u001b[0m\u001b[0;34m.\u001b[0m\u001b[0mappend\u001b[0m\u001b[0;34m(\u001b[0m\u001b[0moutput\u001b[0m\u001b[0;34m)\u001b[0m\u001b[0;34m\u001b[0m\u001b[0;34m\u001b[0m\u001b[0m\n\u001b[1;32m     23\u001b[0m         \u001b[0;32mreturn\u001b[0m \u001b[0mpredictions\u001b[0m\u001b[0;34m\u001b[0m\u001b[0;34m\u001b[0m\u001b[0m\n",
      "\u001b[0;32m<ipython-input-122-0b5c63ec04fe>\u001b[0m in \u001b[0;36mpredict\u001b[0;34m(self, test_row, num_neighbors)\u001b[0m\n\u001b[1;32m     12\u001b[0m         \u001b[0moutput_values\u001b[0m \u001b[0;34m=\u001b[0m \u001b[0;34m[\u001b[0m\u001b[0my_train\u001b[0m\u001b[0;34m.\u001b[0m\u001b[0mvalues\u001b[0m \u001b[0;32mfor\u001b[0m \u001b[0mrow\u001b[0m \u001b[0;32min\u001b[0m \u001b[0mneighbors\u001b[0m\u001b[0;34m]\u001b[0m\u001b[0;34m\u001b[0m\u001b[0;34m\u001b[0m\u001b[0m\n\u001b[1;32m     13\u001b[0m         \u001b[0mprint\u001b[0m\u001b[0;34m(\u001b[0m\u001b[0moutput_values\u001b[0m\u001b[0;34m)\u001b[0m\u001b[0;34m\u001b[0m\u001b[0;34m\u001b[0m\u001b[0m\n\u001b[0;32m---> 14\u001b[0;31m         \u001b[0mprediction\u001b[0m \u001b[0;34m=\u001b[0m \u001b[0mmax\u001b[0m\u001b[0;34m(\u001b[0m\u001b[0mset\u001b[0m\u001b[0;34m(\u001b[0m\u001b[0moutput_values\u001b[0m\u001b[0;34m)\u001b[0m\u001b[0;34m,\u001b[0m \u001b[0mkey\u001b[0m\u001b[0;34m=\u001b[0m\u001b[0moutput_values\u001b[0m\u001b[0;34m.\u001b[0m\u001b[0mcount\u001b[0m\u001b[0;34m)\u001b[0m\u001b[0;34m\u001b[0m\u001b[0;34m\u001b[0m\u001b[0m\n\u001b[0m\u001b[1;32m     15\u001b[0m         \u001b[0;32mreturn\u001b[0m \u001b[0mprediction\u001b[0m\u001b[0;34m\u001b[0m\u001b[0;34m\u001b[0m\u001b[0m\n\u001b[1;32m     16\u001b[0m \u001b[0;34m\u001b[0m\u001b[0m\n",
      "\u001b[0;31mTypeError\u001b[0m: unhashable type: 'numpy.ndarray'"
     ]
    }
   ],
   "source": [
    "newdf.fit(newdf.X_test, 3)"
   ]
  },
  {
   "cell_type": "code",
   "execution_count": null,
   "metadata": {},
   "outputs": [],
   "source": []
  }
 ],
 "metadata": {
  "kernelspec": {
   "display_name": "Python 3",
   "language": "python",
   "name": "python3"
  },
  "language_info": {
   "codemirror_mode": {
    "name": "ipython",
    "version": 3
   },
   "file_extension": ".py",
   "mimetype": "text/x-python",
   "name": "python",
   "nbconvert_exporter": "python",
   "pygments_lexer": "ipython3",
   "version": "3.9.0"
  }
 },
 "nbformat": 4,
 "nbformat_minor": 2
}
