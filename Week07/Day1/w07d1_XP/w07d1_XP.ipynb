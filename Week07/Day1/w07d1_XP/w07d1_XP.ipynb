{
 "metadata": {
  "language_info": {
   "codemirror_mode": {
    "name": "ipython",
    "version": 3
   },
   "file_extension": ".py",
   "mimetype": "text/x-python",
   "name": "python",
   "nbconvert_exporter": "python",
   "pygments_lexer": "ipython3",
   "version": "3.9.0"
  },
  "orig_nbformat": 2,
  "kernelspec": {
   "name": "python390jvsc74a57bd04cd7ab41f5fca4b9b44701077e38c5ffd31fe66a6cab21e0214b68d958d0e462",
   "display_name": "Python 3.9.0 64-bit"
  }
 },
 "nbformat": 4,
 "nbformat_minor": 2,
 "cells": [
  {
   "cell_type": "code",
   "execution_count": 4,
   "metadata": {},
   "outputs": [
    {
     "output_type": "execute_result",
     "data": {
      "text/plain": [
       "array([  6,  10,  14,  18,  22,  26,  30,  34,  38,  42,  46,  50,  54,\n",
       "        58,  62,  66,  70,  74,  78,  82,  86,  90,  94,  98, 102, 106,\n",
       "       110, 114, 118, 122, 126, 130, 134, 138, 142, 146, 150, 154, 158,\n",
       "       162, 166, 170, 174, 178, 182, 186, 190, 194, 198, 202, 206, 210,\n",
       "       214, 218, 222, 226, 230, 234, 238, 242, 246, 250, 254, 258, 262,\n",
       "       266, 270, 274, 278, 282, 286, 290, 294, 298, 302, 306, 310, 314,\n",
       "       318, 322, 326, 330, 334, 338, 342, 346, 350, 354, 358, 362, 366,\n",
       "       370, 374, 378, 382, 386, 390, 394, 398, 402])"
      ]
     },
     "metadata": {},
     "execution_count": 4
    }
   ],
   "source": [
    "# Write a function to create a numpy array using only the input: start, length, and stop.\n",
    "# Use the function to create an numpy array of length 100, starting from 6 and has a step of 4 between consecutive numbers\n",
    "import numpy as np\n",
    "a = np.arange(6,4*100+6,4) # numpy.arange([start, ]stop, [step, ]dtype=None, *, like=None)\n",
    "a"
   ]
  },
  {
   "cell_type": "code",
   "execution_count": null,
   "metadata": {},
   "outputs": [],
   "source": []
  }
 ]
}