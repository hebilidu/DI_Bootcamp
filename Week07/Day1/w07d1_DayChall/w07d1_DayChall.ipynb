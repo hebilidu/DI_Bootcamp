{
 "cells": [
  {
   "cell_type": "code",
   "execution_count": 37,
   "id": "029a18f5",
   "metadata": {},
   "outputs": [
    {
     "output_type": "stream",
     "name": "stdout",
     "text": [
      "Entire array: \n [[ 80  24  61  88  58]\n [ 46  45  39  19 100]\n [ 74  59  57 100  64]\n [  6  19  84  93  46]]\nThird row:  [[ 74  59  57 100  64]]\nThird column:  [61 39 57 84]\nLast row set to 7: \n [[ 80  24  61  88  58]\n [ 46  45  39  19 100]\n [ 74  59  57 100  64]\n [  7   7   7   7   7]]\nLast column is sum of first 2: \n [[ 80  24  61  88 104]\n [ 46  45  39  19  91]\n [ 74  59  57 100 133]\n [  7   7   7   7  14]]\n"
     ]
    }
   ],
   "source": [
    "import random\n",
    "import numpy as np\n",
    "\n",
    "# Create a table (i.e. a 2d array) of size M x N filled with random integers between 1 and 100, where 1 < N < 40 and 1 < M < 50.\n",
    "while True:\n",
    "    input_n = input(\"Enter N (1<N<40): \")\n",
    "    input_m = input(\"Enter M (1<M<50): \")\n",
    "    try:\n",
    "        n = int(input_n)\n",
    "        m = int(input_m)\n",
    "    except ValueError:\n",
    "        print(\"Integers only, please.\")\n",
    "        continue\n",
    "    if not(1<n<40 and 1<m<50):\n",
    "        print(\"At least one number out of range.\")\n",
    "        continue\n",
    "    break\n",
    "\n",
    "# Fill table with random numbers\n",
    "arr = np.random.randint(0, 101, size=(m,n))\n",
    "print(\"Entire array: \\n\", arr)\n",
    "\n",
    "# Third row\n",
    "print(\"Third row: \", arr[2:3])\n",
    "# Third column\n",
    "print(\"Third column: \", arr[:,2])\n",
    "# Set all last row elements to 7\n",
    "arr[-1] = 7\n",
    "print(\"Last row set to 7: \\n\", arr)\n",
    "# Set last column elements to sum of first 2 columns \n",
    "arr[:,-1] = np.sum(arr[:,:2], axis = 1)\n",
    "print(\"Last column is sum of first 2: \\n\", arr) "
   ]
  },
  {
   "cell_type": "code",
   "execution_count": null,
   "metadata": {},
   "outputs": [],
   "source": []
  }
 ],
 "metadata": {
  "kernelspec": {
   "name": "python390jvsc74a57bd04cd7ab41f5fca4b9b44701077e38c5ffd31fe66a6cab21e0214b68d958d0e462",
   "display_name": "Python 3.9.0 64-bit"
  },
  "language_info": {
   "codemirror_mode": {
    "name": "ipython",
    "version": 3
   },
   "file_extension": ".py",
   "mimetype": "text/x-python",
   "name": "python",
   "nbconvert_exporter": "python",
   "pygments_lexer": "ipython3",
   "version": "3.9.0"
  },
  "metadata": {
   "interpreter": {
    "hash": "4cd7ab41f5fca4b9b44701077e38c5ffd31fe66a6cab21e0214b68d958d0e462"
   }
  }
 },
 "nbformat": 4,
 "nbformat_minor": 5
}