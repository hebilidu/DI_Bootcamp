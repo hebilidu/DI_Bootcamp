{
 "metadata": {
  "language_info": {
   "codemirror_mode": {
    "name": "ipython",
    "version": 3
   },
   "file_extension": ".py",
   "mimetype": "text/x-python",
   "name": "python",
   "nbconvert_exporter": "python",
   "pygments_lexer": "ipython3",
   "version": "3.9.0"
  },
  "orig_nbformat": 2,
  "kernelspec": {
   "name": "python390jvsc74a57bd04cd7ab41f5fca4b9b44701077e38c5ffd31fe66a6cab21e0214b68d958d0e462",
   "display_name": "Python 3.9.0 64-bit"
  }
 },
 "nbformat": 4,
 "nbformat_minor": 2,
 "cells": [
  {
   "cell_type": "code",
   "execution_count": 1,
   "metadata": {},
   "outputs": [
    {
     "output_type": "execute_result",
     "data": {
      "text/plain": [
       "0     Okay\n",
       "1     Poor\n",
       "2     Okay\n",
       "3     Okay\n",
       "4     Good\n",
       "      ... \n",
       "95     Bad\n",
       "96     Bad\n",
       "97    Poor\n",
       "98    Okay\n",
       "99    Good\n",
       "Length: 100, dtype: object"
      ]
     },
     "metadata": {},
     "execution_count": 1
    }
   ],
   "source": [
    "import random\n",
    "import pandas as pd\n",
    "rank_list = [\"Great\", \"Good\", \"Okay\", \"Bad\", \"Poor\"]\n",
    "items = pd.Series([random.choice(rank_list) for i in range(100)])\n",
    "items"
   ]
  },
  {
   "cell_type": "code",
   "execution_count": 2,
   "metadata": {},
   "outputs": [
    {
     "output_type": "execute_result",
     "data": {
      "text/plain": [
       "    Rank  Encoded Rank\n",
       "0   Okay             2\n",
       "1   Poor             0\n",
       "2   Okay             2\n",
       "3   Okay             2\n",
       "4   Good             3\n",
       "..   ...           ...\n",
       "95   Bad             1\n",
       "96   Bad             1\n",
       "97  Poor             0\n",
       "98  Okay             2\n",
       "99  Good             3\n",
       "\n",
       "[100 rows x 2 columns]"
      ],
      "text/html": "<div>\n<style scoped>\n    .dataframe tbody tr th:only-of-type {\n        vertical-align: middle;\n    }\n\n    .dataframe tbody tr th {\n        vertical-align: top;\n    }\n\n    .dataframe thead th {\n        text-align: right;\n    }\n</style>\n<table border=\"1\" class=\"dataframe\">\n  <thead>\n    <tr style=\"text-align: right;\">\n      <th></th>\n      <th>Rank</th>\n      <th>Encoded Rank</th>\n    </tr>\n  </thead>\n  <tbody>\n    <tr>\n      <th>0</th>\n      <td>Okay</td>\n      <td>2</td>\n    </tr>\n    <tr>\n      <th>1</th>\n      <td>Poor</td>\n      <td>0</td>\n    </tr>\n    <tr>\n      <th>2</th>\n      <td>Okay</td>\n      <td>2</td>\n    </tr>\n    <tr>\n      <th>3</th>\n      <td>Okay</td>\n      <td>2</td>\n    </tr>\n    <tr>\n      <th>4</th>\n      <td>Good</td>\n      <td>3</td>\n    </tr>\n    <tr>\n      <th>...</th>\n      <td>...</td>\n      <td>...</td>\n    </tr>\n    <tr>\n      <th>95</th>\n      <td>Bad</td>\n      <td>1</td>\n    </tr>\n    <tr>\n      <th>96</th>\n      <td>Bad</td>\n      <td>1</td>\n    </tr>\n    <tr>\n      <th>97</th>\n      <td>Poor</td>\n      <td>0</td>\n    </tr>\n    <tr>\n      <th>98</th>\n      <td>Okay</td>\n      <td>2</td>\n    </tr>\n    <tr>\n      <th>99</th>\n      <td>Good</td>\n      <td>3</td>\n    </tr>\n  </tbody>\n</table>\n<p>100 rows × 2 columns</p>\n</div>"
     },
     "metadata": {},
     "execution_count": 2
    }
   ],
   "source": [
    "size_dict = {'Poor': 0, 'Bad':1, 'Okay':2, 'Good':3, 'Great':4}\n",
    "encoded_items = items.map(lambda x: size_dict[x])\n",
    "pd.DataFrame({\"Rank\":items, \"Encoded Rank\":encoded_items})"
   ]
  },
  {
   "cell_type": "code",
   "execution_count": null,
   "metadata": {},
   "outputs": [],
   "source": []
  }
 ]
}